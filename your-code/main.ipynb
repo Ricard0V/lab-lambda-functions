{
  "cells": [
    {
      "cell_type": "markdown",
      "metadata": {
        "id": "yx_QbAg1aH9V"
      },
      "source": [
        "# Before your start:\n",
        "- Read the README.md file\n",
        "- Comment as much as you can and use the resources in the README.md file\n",
        "- Happy learning!"
      ]
    },
    {
      "cell_type": "markdown",
      "metadata": {
        "id": "JrmsSdL6aH9b"
      },
      "source": [
        "# Challenge 1 - Passing a Lambda Expression to a Function\n",
        "\n",
        "In the next excercise you will create a function that returns a lambda expression. Create a function called `modify_list`. The function takes two arguments, a list and a lambda expression. The function iterates through the list and applies the lambda expression to every element in the list."
      ]
    },
    {
      "cell_type": "markdown",
      "metadata": {
        "id": "Anj3tzN4aH9c"
      },
      "source": [
        "Follow the steps as stated below:\n",
        "    1. Define a list of any 10 numbers\n",
        "    2. Define a simple lambda expression for eg that updates a number by 2\n",
        "    3. Define an empty list\n",
        "    4. Define the function -> use the lambda function to append the empty list\n",
        "    5. Call the function with list and lambda expression\n",
        "    6. print the updated list  "
      ]
    },
    {
      "cell_type": "code",
      "execution_count": null,
      "metadata": {
        "colab": {
          "base_uri": "https://localhost:8080/"
        },
        "id": "tWXgirxNaH9d",
        "outputId": "93332434-a969-4df5-c317-93e8f71ca8f6"
      },
      "outputs": [
        {
          "output_type": "execute_result",
          "data": {
            "text/plain": [
              "[2, 3, 4, 5, 6, 7, 8, 9, 10, 11]"
            ]
          },
          "metadata": {},
          "execution_count": 1
        }
      ],
      "source": [
        "# your code here\n",
        "mylist = [i for i in range(0,10)]\n",
        "\n",
        "func = lambda x: x+2\n",
        "mylist_2 = []\n",
        "\n",
        "def modify_list (mylist,func):\n",
        "    mylist_2 = [func(number) for number in mylist]\n",
        "    return mylist_2\n",
        "\n",
        "modify_list(mylist,func)"
      ]
    },
    {
      "cell_type": "markdown",
      "metadata": {
        "id": "RM9fgUmgaH9f"
      },
      "source": [
        "#### Now we will define a lambda expression that will transform the elements of the list. \n",
        "\n",
        "In the cell below, create a lambda expression that converts Celsius to Kelvin. Recall that 0°C + 273.15 = 273.15K"
      ]
    },
    {
      "cell_type": "code",
      "execution_count": null,
      "metadata": {
        "colab": {
          "base_uri": "https://localhost:8080/"
        },
        "id": "r8hkpkbwaH9f",
        "outputId": "e189b61f-f0cd-49f2-fd53-8ff29d7f354c"
      },
      "outputs": [
        {
          "output_type": "stream",
          "name": "stdout",
          "text": [
            "274.15\n"
          ]
        }
      ],
      "source": [
        "# Your code here:\n",
        "kelvin = lambda celsius : celsius + 273.15\n",
        "\n",
        "print(kelvin(1))"
      ]
    },
    {
      "cell_type": "markdown",
      "metadata": {
        "id": "uzGjb_A3aH9g"
      },
      "source": [
        "Finally, convert the list of temperatures below from Celsius to Kelvin."
      ]
    },
    {
      "cell_type": "code",
      "execution_count": null,
      "metadata": {
        "colab": {
          "base_uri": "https://localhost:8080/"
        },
        "id": "6cVVOCthaH9g",
        "outputId": "c854db97-af0f-4ab1-9ad2-76d3f20c1455"
      },
      "outputs": [
        {
          "output_type": "stream",
          "name": "stdout",
          "text": [
            "[285.15, 296.15, 311.15, 218.14999999999998, 297.15]\n"
          ]
        }
      ],
      "source": [
        "temps = [12, 23, 38, -55, 24]\n",
        "\n",
        "# Your code here:\n",
        "\n",
        "convert_kelvin = [kelvin(celsius) for celsius in temps]\n",
        "print(convert_kelvin)"
      ]
    },
    {
      "cell_type": "markdown",
      "metadata": {
        "id": "TEmcBxqkaH9h"
      },
      "source": [
        "#### In this part, we will define a function that returns a lambda expression\n",
        "\n",
        "In the cell below, write a lambda expression that takes two numbers and returns 1 if one is divisible by the other and zero otherwise. Call the lambda expression `mod`."
      ]
    },
    {
      "cell_type": "code",
      "execution_count": null,
      "metadata": {
        "id": "u-wXtqFCaH9i"
      },
      "outputs": [],
      "source": [
        "# Your code here:\n",
        "mod = lambda a,b: 1 if a%b==0 else 1 if b%a==0 else 0"
      ]
    },
    {
      "cell_type": "markdown",
      "metadata": {
        "id": "kkIOdHY4aH9j"
      },
      "source": [
        "#### Now create a function that returns mod. The function only takes one argument - the first number in the `mod` lambda function. \n",
        "\n",
        "Note: the lambda function above took two arguments, the lambda function in the return statement only takes one argument but also uses the argument passed to the function."
      ]
    },
    {
      "cell_type": "code",
      "execution_count": null,
      "metadata": {
        "id": "WcAMtVB0aH9j"
      },
      "outputs": [],
      "source": [
        "def divisor(a):\n",
        "    \"\"\"\n",
        "    input: a number\n",
        "    output: a function that returns 1 if the number is divisible by another number (to be passed later) and zero otherwise\n",
        "    \"\"\"\n",
        "    # Your code here:\n",
        "    return lambda y: mod(y,a)"
      ]
    },
    {
      "cell_type": "markdown",
      "metadata": {
        "id": "Sk_SpPe3aH9k"
      },
      "source": [
        "Finally, pass the number 5 to `divisor`. Now the function will check whether a number is divisble by 5. Assign this function to `divisible5`"
      ]
    },
    {
      "cell_type": "code",
      "execution_count": null,
      "metadata": {
        "id": "Ep7xwE9ZaH9k"
      },
      "outputs": [],
      "source": [
        "# Your code here:\n",
        "divisible5 = divisor(5)"
      ]
    },
    {
      "cell_type": "markdown",
      "metadata": {
        "id": "ASP5sb-6aH9l"
      },
      "source": [
        "Test your function with the following test cases:"
      ]
    },
    {
      "cell_type": "code",
      "execution_count": null,
      "metadata": {
        "colab": {
          "base_uri": "https://localhost:8080/"
        },
        "id": "hdtLdw8ZaH9l",
        "outputId": "494ec90b-69c4-488e-caed-bf526ff75bd0"
      },
      "outputs": [
        {
          "output_type": "execute_result",
          "data": {
            "text/plain": [
              "1"
            ]
          },
          "metadata": {},
          "execution_count": 8
        }
      ],
      "source": [
        "divisible5(10)"
      ]
    },
    {
      "cell_type": "code",
      "execution_count": null,
      "metadata": {
        "colab": {
          "base_uri": "https://localhost:8080/"
        },
        "id": "oV22kn_-aH9m",
        "outputId": "25d0b9ed-4710-4bf9-d711-2509278371b7"
      },
      "outputs": [
        {
          "output_type": "execute_result",
          "data": {
            "text/plain": [
              "0"
            ]
          },
          "metadata": {},
          "execution_count": 9
        }
      ],
      "source": [
        "divisible5(8)"
      ]
    },
    {
      "cell_type": "markdown",
      "metadata": {
        "id": "RhOCDi2DaH9m"
      },
      "source": [
        "# Challenge 2 - Using Lambda Expressions in List Comprehensions\n",
        "\n",
        "In the following challenge, we will combine two lists using a lambda expression in a list comprehension. \n",
        "\n",
        "To do this, we will need to introduce the `zip` function. The `zip` function returns an iterator of tuples.\n",
        "\n",
        "The way zip function works with list has been shown below:"
      ]
    },
    {
      "cell_type": "code",
      "execution_count": null,
      "metadata": {
        "colab": {
          "base_uri": "https://localhost:8080/"
        },
        "id": "GWP7_lqZaH9m",
        "outputId": "4acce2b6-3c6f-466f-d5dc-919f61db2253"
      },
      "outputs": [
        {
          "output_type": "execute_result",
          "data": {
            "text/plain": [
              "[('Green', 'eggs'),\n",
              " ('cheese', 'cheese'),\n",
              " ('English', 'cucumber'),\n",
              " ('tomato', 'tomato')]"
            ]
          },
          "metadata": {},
          "execution_count": 10
        }
      ],
      "source": [
        "list1 = ['Green', 'cheese', 'English', 'tomato']\n",
        "list2 = ['eggs', 'cheese', 'cucumber', 'tomato']\n",
        "zipped = zip(list1,list2)\n",
        "list(zipped)"
      ]
    },
    {
      "cell_type": "markdown",
      "metadata": {
        "id": "KVwt0daFaH9n"
      },
      "source": [
        "In this exercise we will try to compare the elements on the same index in the two lists. \n",
        "We want to zip the two lists and then use a lambda expression to compare if:\n",
        "list1 element > list2 element "
      ]
    },
    {
      "cell_type": "code",
      "execution_count": null,
      "metadata": {
        "colab": {
          "base_uri": "https://localhost:8080/"
        },
        "id": "UrkIDWoMaH9o",
        "outputId": "a5de74a6-62bb-4e62-d84a-f88770118fe3"
      },
      "outputs": [
        {
          "output_type": "stream",
          "name": "stdout",
          "text": [
            "[(1, 2), (2, 3), (4, 3), (4, 5)]\n"
          ]
        },
        {
          "output_type": "execute_result",
          "data": {
            "text/plain": [
              "[False, False, True, False]"
            ]
          },
          "metadata": {},
          "execution_count": 11
        }
      ],
      "source": [
        "list1 = [1,2,4,4]\n",
        "list2 = [2,3,3,5]\n",
        "\n",
        "## Zip the lists together \n",
        "zipped_list = zip(list1,list2)\n",
        "zipped_list  = list(zipped_list)\n",
        "\n",
        "## Print the zipped list \n",
        "print(zipped_list)\n",
        "\n",
        "## Use a lambda expression to compare if: list1 element > list2 element\n",
        "[(lambda a,b: True if a>b else False) (a,b) for a,b in zipped_list ]"
      ]
    },
    {
      "cell_type": "markdown",
      "metadata": {
        "id": "7OjOX_6SaH9o"
      },
      "source": [
        "Complete the parts of the code marked as \"###\""
      ]
    },
    {
      "cell_type": "markdown",
      "metadata": {
        "id": "ju2cebQAaH9o"
      },
      "source": [
        "# Challenge 3 - Using Lambda Expressions as Arguments\n",
        "\n",
        "#### In this challenge, we will zip together two lists and sort by the resulting tuple.\n",
        "\n",
        "In the cell below, take the two lists provided, zip them together and sort by the first letter of the second element of each tuple. Do this using a lambda function."
      ]
    },
    {
      "cell_type": "code",
      "execution_count": null,
      "metadata": {
        "colab": {
          "base_uri": "https://localhost:8080/"
        },
        "id": "TBWO38HyaH9p",
        "outputId": "dafef827-5986-44ce-a134-d7bfa9117767"
      },
      "outputs": [
        {
          "output_type": "stream",
          "name": "stdout",
          "text": [
            "[('Engineering', 'Lab'), ('Computer Science', 'Homework'), ('Political Science', 'Essay'), ('Mathematics', 'Module')]\n",
            "[('Political Science', 'Essay'), ('Computer Science', 'Homework'), ('Engineering', 'Lab'), ('Mathematics', 'Module')]\n"
          ]
        }
      ],
      "source": [
        "list1 = ['Engineering', 'Computer Science', 'Political Science', 'Mathematics']\n",
        "list2 = ['Lab', 'Homework', 'Essay', 'Module']\n",
        "\n",
        "# Your code here:\n",
        "zipped_list = zip(list1,list2)\n",
        "zipped_list  = list(zipped_list)\n",
        "print(zipped_list)\n",
        "\n",
        "zipped_list.sort(key=lambda x:x[1])\n",
        "print(zipped_list)"
      ]
    },
    {
      "cell_type": "markdown",
      "metadata": {
        "id": "sk8jq856aH9p"
      },
      "source": [
        "# Bonus Challenge - Sort a Dictionary by Values\n",
        "\n",
        "Given the dictionary below, sort it by values rather than by keys. Use a lambda function to specify the values as a sorting key."
      ]
    },
    {
      "cell_type": "code",
      "execution_count": null,
      "metadata": {
        "colab": {
          "base_uri": "https://localhost:8080/"
        },
        "id": "4XZ4Y4AbaH9p",
        "outputId": "6cb2bbeb-743f-4ae9-90cd-acbde4639d76"
      },
      "outputs": [
        {
          "output_type": "stream",
          "name": "stdout",
          "text": [
            "{'Toyota': 1995, 'Honda': 1997, 'Audi': 2001, 'BMW': 2005}\n"
          ]
        }
      ],
      "source": [
        "d = {'Honda': 1997, 'Toyota': 1995, 'Audi': 2001, 'BMW': 2005}\n",
        "\n",
        "# Your code here:\n",
        "\n",
        "d_view = d.items()\n",
        "d_list = list(d_view)\n",
        "\n",
        "d_list.sort(key=lambda x:x[1])\n",
        "\n",
        "d = dict(d_list)\n",
        "print(d)"
      ]
    },
    {
      "cell_type": "code",
      "execution_count": null,
      "metadata": {
        "id": "AthzLF3ZaH9q"
      },
      "outputs": [],
      "source": [
        ""
      ]
    }
  ],
  "metadata": {
    "kernelspec": {
      "display_name": "Python 3",
      "language": "python",
      "name": "python3"
    },
    "language_info": {
      "codemirror_mode": {
        "name": "ipython",
        "version": 3
      },
      "file_extension": ".py",
      "mimetype": "text/x-python",
      "name": "python",
      "nbconvert_exporter": "python",
      "pygments_lexer": "ipython3",
      "version": "3.7.3"
    },
    "colab": {
      "name": "main.ipynb",
      "provenance": [],
      "collapsed_sections": []
    }
  },
  "nbformat": 4,
  "nbformat_minor": 0
}